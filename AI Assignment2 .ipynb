{
 "cells": [
  {
   "cell_type": "code",
   "execution_count": 116,
   "metadata": {},
   "outputs": [],
   "source": [
    "import numpy as np\n",
    "import pandas as pd"
   ]
  },
  {
   "cell_type": "code",
   "execution_count": 117,
   "metadata": {},
   "outputs": [],
   "source": [
    "graph={51:[3,6],\n",
    "       3:[9,6,51],\n",
    "       6:[51,3,57,8],\n",
    "       57:[6],\n",
    "       9:[3,8],\n",
    "       8:[9,6,42],\n",
    "       42:[8],\n",
    "       1:[8,14],\n",
    "       14:[1,97],\n",
    "       97:[14]\n",
    "      }"
   ]
  },
  {
   "cell_type": "code",
   "execution_count": 118,
   "metadata": {},
   "outputs": [
    {
     "data": {
      "text/plain": [
       "dict_keys([51, 3, 6, 57, 9, 8, 42, 1, 14, 97])"
      ]
     },
     "execution_count": 118,
     "metadata": {},
     "output_type": "execute_result"
    }
   ],
   "source": [
    "graph.keys()"
   ]
  },
  {
   "cell_type": "code",
   "execution_count": 119,
   "metadata": {},
   "outputs": [
    {
     "data": {
      "text/plain": [
       "10"
      ]
     },
     "execution_count": 119,
     "metadata": {},
     "output_type": "execute_result"
    }
   ],
   "source": [
    "#counting no of nodes\n",
    "len(graph) "
   ]
  },
  {
   "cell_type": "code",
   "execution_count": 141,
   "metadata": {},
   "outputs": [
    {
     "name": "stdout",
     "output_type": "stream",
     "text": [
      "Found\n"
     ]
    }
   ],
   "source": [
    "#searching the node\n",
    "find=51\n",
    "if find in graph.keys():\n",
    "    print(\"Found\")\n",
    "else:\n",
    "    print(\"Not Found\")\n",
    "        "
   ]
  },
  {
   "cell_type": "code",
   "execution_count": 120,
   "metadata": {},
   "outputs": [],
   "source": [
    "import collections"
   ]
  },
  {
   "cell_type": "code",
   "execution_count": 134,
   "metadata": {},
   "outputs": [],
   "source": [
    "#Breadth First Search\n",
    "def bfs(graph, root,find): \n",
    "    visited=[]\n",
    "    queue=collections.deque([root])\n",
    "    visited.append(root)\n",
    "    while queue: \n",
    "        node = queue.popleft()\n",
    "        #print(\"popped element\"+str(node))\n",
    "        for i in graph[node]: \n",
    "            if i not in visited: \n",
    "                visited.append(i) \n",
    "                queue.append(i) \n",
    "                #print(visited)\n",
    "                #print(queue)\n",
    "    if find in visited:\n",
    "        print(\"Found\")\n",
    "    else:\n",
    "        print(\"Not found\")"
   ]
  },
  {
   "cell_type": "code",
   "execution_count": 138,
   "metadata": {},
   "outputs": [
    {
     "name": "stdout",
     "output_type": "stream",
     "text": [
      "Found\n"
     ]
    }
   ],
   "source": [
    "bfs(graph, 51,8)"
   ]
  },
  {
   "cell_type": "code",
   "execution_count": 130,
   "metadata": {},
   "outputs": [],
   "source": [
    "#Depth First Search\n",
    "def dfs(graph, root,find): \n",
    "    visited=[]\n",
    "    queue=collections.deque([root])\n",
    "    visited.append(root)\n",
    "    while queue: \n",
    "        node = queue.popleft()\n",
    "        #print(\"popped element\"+str(node))\n",
    "        for i in graph[node]: \n",
    "            if i not in visited: \n",
    "                visited.append(i) \n",
    "                queue.appendleft(i) \n",
    "                #print(visited)\n",
    "                #print(queue)\n",
    "    if find in visited:\n",
    "        print(\"Found\")\n",
    "    else:\n",
    "        print(\"Not found\")"
   ]
  },
  {
   "cell_type": "code",
   "execution_count": 133,
   "metadata": {},
   "outputs": [
    {
     "name": "stdout",
     "output_type": "stream",
     "text": [
      "Found\n"
     ]
    }
   ],
   "source": [
    "dfs(graph,51,9)"
   ]
  },
  {
   "cell_type": "code",
   "execution_count": null,
   "metadata": {},
   "outputs": [],
   "source": []
  }
 ],
 "metadata": {
  "kernelspec": {
   "display_name": "Python 3",
   "language": "python",
   "name": "python3"
  },
  "language_info": {
   "codemirror_mode": {
    "name": "ipython",
    "version": 3
   },
   "file_extension": ".py",
   "mimetype": "text/x-python",
   "name": "python",
   "nbconvert_exporter": "python",
   "pygments_lexer": "ipython3",
   "version": "3.7.3"
  }
 },
 "nbformat": 4,
 "nbformat_minor": 2
}
