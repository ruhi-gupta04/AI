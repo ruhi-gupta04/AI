{
 "cells": [
  {
   "cell_type": "code",
   "execution_count": 1,
   "metadata": {},
   "outputs": [],
   "source": [
    "import pandas as pd\n",
    "import numpy as np"
   ]
  },
  {
   "cell_type": "code",
   "execution_count": 14,
   "metadata": {},
   "outputs": [
    {
     "name": "stdout",
     "output_type": "stream",
     "text": [
      "Enter n for N - Queens Problem :6\n"
     ]
    }
   ],
   "source": [
    "n = int(input(\"Enter n for N - Queens Problem :\"))"
   ]
  },
  {
   "cell_type": "code",
   "execution_count": 16,
   "metadata": {},
   "outputs": [
    {
     "name": "stdout",
     "output_type": "stream",
     "text": [
      "Possible solutions : \n",
      "1 : [(1, 2), (2, 4), (3, 6), (4, 1), (5, 3), (6, 5)]\n",
      "2 : [(1, 3), (2, 6), (3, 2), (4, 5), (5, 1), (6, 4)]\n",
      "3 : [(1, 4), (2, 1), (3, 5), (4, 2), (5, 6), (6, 3)]\n",
      "4 : [(1, 5), (2, 3), (3, 1), (4, 6), (5, 4), (6, 2)]\n"
     ]
    }
   ],
   "source": [
    "def under_attack(col, queens):\n",
    "    return col in queens or any(abs(col - x) == len(queens)-i for i,x in enumerate(queens))\n",
    "\n",
    "def solve(n):\n",
    "    solutions = [[]]\n",
    "    for row in range(n):\n",
    "        solutions = [solution+[i+1] for solution in solutions for i in range(n) if not under_attack(i+1, solution)]\n",
    "    return solutions\n",
    "\n",
    "print(\"Possible solutions : \")\n",
    "count = 0\n",
    "for ans in solve(n): \n",
    "    count = count + 1\n",
    "    print(count,\":\",list(enumerate(ans, start=1)))"
   ]
  },
  {
   "cell_type": "code",
   "execution_count": null,
   "metadata": {},
   "outputs": [],
   "source": []
  }
 ],
 "metadata": {
  "kernelspec": {
   "display_name": "Python 3",
   "language": "python",
   "name": "python3"
  },
  "language_info": {
   "codemirror_mode": {
    "name": "ipython",
    "version": 3
   },
   "file_extension": ".py",
   "mimetype": "text/x-python",
   "name": "python",
   "nbconvert_exporter": "python",
   "pygments_lexer": "ipython3",
   "version": "3.7.3"
  }
 },
 "nbformat": 4,
 "nbformat_minor": 2
}
